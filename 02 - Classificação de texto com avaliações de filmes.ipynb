{
 "cells": [
  {
   "cell_type": "code",
   "execution_count": 1,
   "id": "84aac204",
   "metadata": {},
   "outputs": [
    {
     "name": "stdout",
     "output_type": "stream",
     "text": [
      "2.1.0\n"
     ]
    }
   ],
   "source": [
    "import tensorflow as tf\n",
    "from tensorflow import keras\n",
    "\n",
    "import numpy as np\n",
    "\n",
    "print(tf.__version__)"
   ]
  },
  {
   "cell_type": "code",
   "execution_count": 2,
   "id": "48152d78",
   "metadata": {},
   "outputs": [
    {
     "name": "stderr",
     "output_type": "stream",
     "text": [
      "C:\\Users\\zlope\\miniconda3\\envs\\tensorflow\\lib\\site-packages\\tensorflow_core\\python\\keras\\datasets\\imdb.py:129: VisibleDeprecationWarning: Creating an ndarray from ragged nested sequences (which is a list-or-tuple of lists-or-tuples-or ndarrays with different lengths or shapes) is deprecated. If you meant to do this, you must specify 'dtype=object' when creating the ndarray\n",
      "  x_train, y_train = np.array(xs[:idx]), np.array(labels[:idx])\n",
      "C:\\Users\\zlope\\miniconda3\\envs\\tensorflow\\lib\\site-packages\\tensorflow_core\\python\\keras\\datasets\\imdb.py:130: VisibleDeprecationWarning: Creating an ndarray from ragged nested sequences (which is a list-or-tuple of lists-or-tuples-or ndarrays with different lengths or shapes) is deprecated. If you meant to do this, you must specify 'dtype=object' when creating the ndarray\n",
      "  x_test, y_test = np.array(xs[idx:]), np.array(labels[idx:])\n"
     ]
    }
   ],
   "source": [
    "imdb = keras.datasets.imdb\n",
    "\n",
    "(train_data, train_labels), (test_data, test_labels) = imdb.load_data(num_words=10000)"
   ]
  },
  {
   "cell_type": "code",
   "execution_count": 3,
   "id": "c291241a",
   "metadata": {},
   "outputs": [
    {
     "name": "stdout",
     "output_type": "stream",
     "text": [
      "Training entries: 25000, labels: 25000\n"
     ]
    }
   ],
   "source": [
    "print(\"Training entries: {}, labels: {}\".format(len(train_data), len(train_labels)))"
   ]
  },
  {
   "cell_type": "code",
   "execution_count": 4,
   "id": "940e408c",
   "metadata": {},
   "outputs": [
    {
     "name": "stdout",
     "output_type": "stream",
     "text": [
      "Training entries: 25000, labels: 25000\n"
     ]
    }
   ],
   "source": [
    "print('Training entries: {}, labels: {}'.format(len(test_data), len(test_labels)))"
   ]
  },
  {
   "cell_type": "code",
   "execution_count": 5,
   "id": "7b23d57c",
   "metadata": {},
   "outputs": [
    {
     "name": "stdout",
     "output_type": "stream",
     "text": [
      "[1, 14, 22, 16, 43, 530, 973, 1622, 1385, 65, 458, 4468, 66, 3941, 4, 173, 36, 256, 5, 25, 100, 43, 838, 112, 50, 670, 2, 9, 35, 480, 284, 5, 150, 4, 172, 112, 167, 2, 336, 385, 39, 4, 172, 4536, 1111, 17, 546, 38, 13, 447, 4, 192, 50, 16, 6, 147, 2025, 19, 14, 22, 4, 1920, 4613, 469, 4, 22, 71, 87, 12, 16, 43, 530, 38, 76, 15, 13, 1247, 4, 22, 17, 515, 17, 12, 16, 626, 18, 2, 5, 62, 386, 12, 8, 316, 8, 106, 5, 4, 2223, 5244, 16, 480, 66, 3785, 33, 4, 130, 12, 16, 38, 619, 5, 25, 124, 51, 36, 135, 48, 25, 1415, 33, 6, 22, 12, 215, 28, 77, 52, 5, 14, 407, 16, 82, 2, 8, 4, 107, 117, 5952, 15, 256, 4, 2, 7, 3766, 5, 723, 36, 71, 43, 530, 476, 26, 400, 317, 46, 7, 4, 2, 1029, 13, 104, 88, 4, 381, 15, 297, 98, 32, 2071, 56, 26, 141, 6, 194, 7486, 18, 4, 226, 22, 21, 134, 476, 26, 480, 5, 144, 30, 5535, 18, 51, 36, 28, 224, 92, 25, 104, 4, 226, 65, 16, 38, 1334, 88, 12, 16, 283, 5, 16, 4472, 113, 103, 32, 15, 16, 5345, 19, 178, 32]\n"
     ]
    }
   ],
   "source": [
    "print(train_data[0])"
   ]
  },
  {
   "cell_type": "code",
   "execution_count": 6,
   "id": "dc21d4ab",
   "metadata": {},
   "outputs": [
    {
     "data": {
      "text/plain": [
       "(218, 189)"
      ]
     },
     "execution_count": 6,
     "metadata": {},
     "output_type": "execute_result"
    }
   ],
   "source": [
    "len(train_data[0]), len(train_data[1])"
   ]
  },
  {
   "cell_type": "code",
   "execution_count": 7,
   "id": "08299ff7",
   "metadata": {},
   "outputs": [],
   "source": [
    "\n",
    "word_index = imdb.get_word_index()\n",
    "\n",
    "\n",
    "word_index = {k:(v+3) for k,v in word_index.items()}\n",
    "word_index[\"<PAD>\"] = 0\n",
    "word_index[\"<START>\"] = 1\n",
    "word_index[\"<UNK>\"] = 2  # unknown\n",
    "word_index[\"<UNUSED>\"] = 3\n",
    "\n",
    "reverse_word_index = dict([(value, key) for (key, value) in word_index.items()])\n",
    "\n",
    "def decode_review(text):\n",
    "    return ' '.join([reverse_word_index.get(i, '?') for i in text])"
   ]
  },
  {
   "cell_type": "code",
   "execution_count": 8,
   "id": "2c8a5d5c",
   "metadata": {},
   "outputs": [
    {
     "data": {
      "text/plain": [
       "\"<START> this film was just brilliant casting location scenery story direction everyone's really suited the part they played and you could just imagine being there robert <UNK> is an amazing actor and now the same being director <UNK> father came from the same scottish island as myself so i loved the fact there was a real connection with this film the witty remarks throughout the film were great it was just brilliant so much that i bought the film as soon as it was released for <UNK> and would recommend it to everyone to watch and the fly fishing was amazing really cried at the end it was so sad and you know what they say if you cry at a film it must have been good and this definitely was also <UNK> to the two little boy's that played the <UNK> of norman and paul they were just brilliant children are often left out of the <UNK> list i think because the stars that play them all grown up are such a big profile for the whole film but these children are amazing and should be praised for what they have done don't you think the whole story was so lovely because it was true and was someone's life after all that was shared with us all\""
      ]
     },
     "execution_count": 8,
     "metadata": {},
     "output_type": "execute_result"
    }
   ],
   "source": [
    "decode_review(train_data[0])"
   ]
  },
  {
   "cell_type": "code",
   "execution_count": 9,
   "id": "442c21cf",
   "metadata": {},
   "outputs": [],
   "source": [
    "train_data = keras.preprocessing.sequence.pad_sequences(train_data,\n",
    "                                                        value=word_index[\"<PAD>\"],\n",
    "                                                        padding='post',\n",
    "                                                        maxlen=256)\n",
    "\n",
    "test_data = keras.preprocessing.sequence.pad_sequences(test_data,\n",
    "                                                       value=word_index[\"<PAD>\"],\n",
    "                                                       padding='post',\n",
    "                                                       maxlen=256)"
   ]
  },
  {
   "cell_type": "code",
   "execution_count": 10,
   "id": "bb5d2bdd",
   "metadata": {},
   "outputs": [
    {
     "data": {
      "text/plain": [
       "(256, 256)"
      ]
     },
     "execution_count": 10,
     "metadata": {},
     "output_type": "execute_result"
    }
   ],
   "source": [
    "len(train_data[0]), len(train_data[1])"
   ]
  },
  {
   "cell_type": "code",
   "execution_count": 11,
   "id": "bdec0c9a",
   "metadata": {},
   "outputs": [
    {
     "name": "stdout",
     "output_type": "stream",
     "text": [
      "[   1   14   22   16   43  530  973 1622 1385   65  458 4468   66 3941\n",
      "    4  173   36  256    5   25  100   43  838  112   50  670    2    9\n",
      "   35  480  284    5  150    4  172  112  167    2  336  385   39    4\n",
      "  172 4536 1111   17  546   38   13  447    4  192   50   16    6  147\n",
      " 2025   19   14   22    4 1920 4613  469    4   22   71   87   12   16\n",
      "   43  530   38   76   15   13 1247    4   22   17  515   17   12   16\n",
      "  626   18    2    5   62  386   12    8  316    8  106    5    4 2223\n",
      " 5244   16  480   66 3785   33    4  130   12   16   38  619    5   25\n",
      "  124   51   36  135   48   25 1415   33    6   22   12  215   28   77\n",
      "   52    5   14  407   16   82    2    8    4  107  117 5952   15  256\n",
      "    4    2    7 3766    5  723   36   71   43  530  476   26  400  317\n",
      "   46    7    4    2 1029   13  104   88    4  381   15  297   98   32\n",
      " 2071   56   26  141    6  194 7486   18    4  226   22   21  134  476\n",
      "   26  480    5  144   30 5535   18   51   36   28  224   92   25  104\n",
      "    4  226   65   16   38 1334   88   12   16  283    5   16 4472  113\n",
      "  103   32   15   16 5345   19  178   32    0    0    0    0    0    0\n",
      "    0    0    0    0    0    0    0    0    0    0    0    0    0    0\n",
      "    0    0    0    0    0    0    0    0    0    0    0    0    0    0\n",
      "    0    0    0    0]\n"
     ]
    }
   ],
   "source": [
    "print(train_data[0])"
   ]
  },
  {
   "cell_type": "code",
   "execution_count": 12,
   "id": "35098c71",
   "metadata": {},
   "outputs": [
    {
     "name": "stdout",
     "output_type": "stream",
     "text": [
      "Model: \"sequential\"\n",
      "_________________________________________________________________\n",
      "Layer (type)                 Output Shape              Param #   \n",
      "=================================================================\n",
      "embedding (Embedding)        (None, None, 16)          160000    \n",
      "_________________________________________________________________\n",
      "global_average_pooling1d (Gl (None, 16)                0         \n",
      "_________________________________________________________________\n",
      "dense (Dense)                (None, 16)                272       \n",
      "_________________________________________________________________\n",
      "dense_1 (Dense)              (None, 1)                 17        \n",
      "=================================================================\n",
      "Total params: 160,289\n",
      "Trainable params: 160,289\n",
      "Non-trainable params: 0\n",
      "_________________________________________________________________\n"
     ]
    }
   ],
   "source": [
    "\n",
    "vocab_size = 10000\n",
    "\n",
    "model = keras.Sequential()\n",
    "model.add(keras.layers.Embedding(vocab_size, 16))\n",
    "model.add(keras.layers.GlobalAveragePooling1D())\n",
    "model.add(keras.layers.Dense(16, activation='relu'))\n",
    "model.add(keras.layers.Dense(1, activation='sigmoid'))\n",
    "\n",
    "model.summary()              "
   ]
  },
  {
   "cell_type": "code",
   "execution_count": 13,
   "id": "3daa78a4",
   "metadata": {},
   "outputs": [],
   "source": [
    "model.compile(optimizer='adam',\n",
    "              loss='binary_crossentropy',\n",
    "              metrics=['accuracy'])"
   ]
  },
  {
   "cell_type": "code",
   "execution_count": 14,
   "id": "160054ea",
   "metadata": {},
   "outputs": [],
   "source": [
    "x_val = train_data[:10000]\n",
    "partial_x_train = train_data[10000:]\n",
    "\n",
    "y_val = train_labels[:10000]\n",
    "partial_y_train = train_labels[10000:]"
   ]
  },
  {
   "cell_type": "code",
   "execution_count": 15,
   "id": "715b8149",
   "metadata": {},
   "outputs": [
    {
     "data": {
      "text/plain": [
       "array([[   1,   13,  104, ...,    0,    0,    0],\n",
       "       [   1,   14,   20, ...,    0,    0,    0],\n",
       "       [   1,   86,  125, ...,    0,    0,    0],\n",
       "       ...,\n",
       "       [   1,   11,    6, ...,    0,    0,    0],\n",
       "       [   1, 1446, 7079, ...,    0,    0,    0],\n",
       "       [   1,   17,    6, ...,    0,    0,    0]])"
      ]
     },
     "execution_count": 15,
     "metadata": {},
     "output_type": "execute_result"
    }
   ],
   "source": [
    "partial_x_train"
   ]
  },
  {
   "cell_type": "code",
   "execution_count": 16,
   "id": "05486a02",
   "metadata": {},
   "outputs": [
    {
     "name": "stdout",
     "output_type": "stream",
     "text": [
      "Train on 15000 samples, validate on 10000 samples\n",
      "Epoch 1/40\n",
      "15000/15000 [==============================] - 1s 92us/sample - loss: 0.6923 - accuracy: 0.5003 - val_loss: 0.6906 - val_accuracy: 0.6306\n",
      "Epoch 2/40\n",
      "15000/15000 [==============================] - 1s 45us/sample - loss: 0.6878 - accuracy: 0.6658 - val_loss: 0.6845 - val_accuracy: 0.6818\n",
      "Epoch 3/40\n",
      "15000/15000 [==============================] - 1s 40us/sample - loss: 0.6787 - accuracy: 0.6843 - val_loss: 0.6729 - val_accuracy: 0.7338\n",
      "Epoch 4/40\n",
      "15000/15000 [==============================] - 1s 44us/sample - loss: 0.6606 - accuracy: 0.7677 - val_loss: 0.6508 - val_accuracy: 0.7400\n",
      "Epoch 5/40\n",
      "15000/15000 [==============================] - 1s 47us/sample - loss: 0.6327 - accuracy: 0.7843 - val_loss: 0.6212 - val_accuracy: 0.7718\n",
      "Epoch 6/40\n",
      "15000/15000 [==============================] - 1s 41us/sample - loss: 0.5971 - accuracy: 0.8053 - val_loss: 0.5860 - val_accuracy: 0.7878\n",
      "Epoch 7/40\n",
      "15000/15000 [==============================] - 1s 46us/sample - loss: 0.5558 - accuracy: 0.8230 - val_loss: 0.5464 - val_accuracy: 0.8139\n",
      "Epoch 8/40\n",
      "15000/15000 [==============================] - 1s 45us/sample - loss: 0.5111 - accuracy: 0.8414 - val_loss: 0.5063 - val_accuracy: 0.8284\n",
      "Epoch 9/40\n",
      "15000/15000 [==============================] - 1s 44us/sample - loss: 0.4674 - accuracy: 0.8560 - val_loss: 0.4684 - val_accuracy: 0.8379\n",
      "Epoch 10/40\n",
      "15000/15000 [==============================] - 1s 47us/sample - loss: 0.4269 - accuracy: 0.8663 - val_loss: 0.4350 - val_accuracy: 0.8471\n",
      "Epoch 11/40\n",
      "15000/15000 [==============================] - 1s 45us/sample - loss: 0.3913 - accuracy: 0.8758 - val_loss: 0.4062 - val_accuracy: 0.8557\n",
      "Epoch 12/40\n",
      "15000/15000 [==============================] - 1s 47us/sample - loss: 0.3606 - accuracy: 0.8844 - val_loss: 0.3831 - val_accuracy: 0.8598\n",
      "Epoch 13/40\n",
      "15000/15000 [==============================] - 1s 45us/sample - loss: 0.3346 - accuracy: 0.8905 - val_loss: 0.3641 - val_accuracy: 0.8651\n",
      "Epoch 14/40\n",
      "15000/15000 [==============================] - 1s 44us/sample - loss: 0.3122 - accuracy: 0.8964 - val_loss: 0.3491 - val_accuracy: 0.8687\n",
      "Epoch 15/40\n",
      "15000/15000 [==============================] - 1s 45us/sample - loss: 0.2933 - accuracy: 0.9006 - val_loss: 0.3370 - val_accuracy: 0.8697\n",
      "Epoch 16/40\n",
      "15000/15000 [==============================] - 1s 45us/sample - loss: 0.2770 - accuracy: 0.9063 - val_loss: 0.3261 - val_accuracy: 0.8754\n",
      "Epoch 17/40\n",
      "15000/15000 [==============================] - 1s 44us/sample - loss: 0.2616 - accuracy: 0.9103 - val_loss: 0.3174 - val_accuracy: 0.8769\n",
      "Epoch 18/40\n",
      "15000/15000 [==============================] - 1s 47us/sample - loss: 0.2489 - accuracy: 0.9143 - val_loss: 0.3111 - val_accuracy: 0.8781\n",
      "Epoch 19/40\n",
      "15000/15000 [==============================] - 1s 45us/sample - loss: 0.2363 - accuracy: 0.9187 - val_loss: 0.3052 - val_accuracy: 0.8797\n",
      "Epoch 20/40\n",
      "15000/15000 [==============================] - 1s 60us/sample - loss: 0.2257 - accuracy: 0.9227 - val_loss: 0.2997 - val_accuracy: 0.8808\n",
      "Epoch 21/40\n",
      "15000/15000 [==============================] - 1s 44us/sample - loss: 0.2151 - accuracy: 0.9264 - val_loss: 0.2958 - val_accuracy: 0.8824\n",
      "Epoch 22/40\n",
      "15000/15000 [==============================] - 1s 44us/sample - loss: 0.2058 - accuracy: 0.9299 - val_loss: 0.2924 - val_accuracy: 0.8829\n",
      "Epoch 23/40\n",
      "15000/15000 [==============================] - 1s 44us/sample - loss: 0.1972 - accuracy: 0.9335 - val_loss: 0.2899 - val_accuracy: 0.8834\n",
      "Epoch 24/40\n",
      "15000/15000 [==============================] - 1s 44us/sample - loss: 0.1888 - accuracy: 0.9366 - val_loss: 0.2887 - val_accuracy: 0.8833\n",
      "Epoch 25/40\n",
      "15000/15000 [==============================] - 1s 44us/sample - loss: 0.1810 - accuracy: 0.9409 - val_loss: 0.2862 - val_accuracy: 0.8851\n",
      "Epoch 26/40\n",
      "15000/15000 [==============================] - 1s 44us/sample - loss: 0.1740 - accuracy: 0.9438 - val_loss: 0.2851 - val_accuracy: 0.8851\n",
      "Epoch 27/40\n",
      "15000/15000 [==============================] - 1s 45us/sample - loss: 0.1671 - accuracy: 0.9469 - val_loss: 0.2857 - val_accuracy: 0.8838\n",
      "Epoch 28/40\n",
      "15000/15000 [==============================] - 1s 44us/sample - loss: 0.1609 - accuracy: 0.9487 - val_loss: 0.2851 - val_accuracy: 0.8856\n",
      "Epoch 29/40\n",
      "15000/15000 [==============================] - 1s 45us/sample - loss: 0.1546 - accuracy: 0.9531 - val_loss: 0.2845 - val_accuracy: 0.8855\n",
      "Epoch 30/40\n",
      "15000/15000 [==============================] - 1s 44us/sample - loss: 0.1486 - accuracy: 0.9543 - val_loss: 0.2854 - val_accuracy: 0.8857\n",
      "Epoch 31/40\n",
      "15000/15000 [==============================] - 1s 45us/sample - loss: 0.1432 - accuracy: 0.9561 - val_loss: 0.2866 - val_accuracy: 0.8844\n",
      "Epoch 32/40\n",
      "15000/15000 [==============================] - 1s 44us/sample - loss: 0.1381 - accuracy: 0.9595 - val_loss: 0.2864 - val_accuracy: 0.8852\n",
      "Epoch 33/40\n",
      "15000/15000 [==============================] - 1s 52us/sample - loss: 0.1327 - accuracy: 0.9614 - val_loss: 0.2877 - val_accuracy: 0.8844\n",
      "Epoch 34/40\n",
      "15000/15000 [==============================] - 1s 52us/sample - loss: 0.1282 - accuracy: 0.9631 - val_loss: 0.2893 - val_accuracy: 0.8859\n",
      "Epoch 35/40\n",
      "15000/15000 [==============================] - 1s 43us/sample - loss: 0.1233 - accuracy: 0.9656 - val_loss: 0.2911 - val_accuracy: 0.8852\n",
      "Epoch 36/40\n",
      "15000/15000 [==============================] - 1s 43us/sample - loss: 0.1189 - accuracy: 0.9668 - val_loss: 0.2938 - val_accuracy: 0.8837\n",
      "Epoch 37/40\n",
      "15000/15000 [==============================] - 1s 43us/sample - loss: 0.1155 - accuracy: 0.9683 - val_loss: 0.2952 - val_accuracy: 0.8839\n",
      "Epoch 38/40\n",
      "15000/15000 [==============================] - 1s 42us/sample - loss: 0.1108 - accuracy: 0.9695 - val_loss: 0.2968 - val_accuracy: 0.8840\n",
      "Epoch 39/40\n",
      "15000/15000 [==============================] - 1s 49us/sample - loss: 0.1069 - accuracy: 0.9707 - val_loss: 0.3001 - val_accuracy: 0.8833\n",
      "Epoch 40/40\n",
      "15000/15000 [==============================] - 1s 45us/sample - loss: 0.1029 - accuracy: 0.9723 - val_loss: 0.3015 - val_accuracy: 0.8834\n"
     ]
    }
   ],
   "source": [
    "history = model.fit(partial_x_train,\n",
    "                    partial_y_train,\n",
    "                    epochs=40,\n",
    "                    batch_size=512,\n",
    "                    validation_data=(x_val, y_val),\n",
    "                    verbose=1)"
   ]
  },
  {
   "cell_type": "code",
   "execution_count": 17,
   "id": "8ef0596d",
   "metadata": {},
   "outputs": [
    {
     "name": "stdout",
     "output_type": "stream",
     "text": [
      "25000/25000 - 1s - loss: 0.3210 - accuracy: 0.8732\n",
      "[0.32098187719345095, 0.87324]\n"
     ]
    }
   ],
   "source": [
    "results = model.evaluate(test_data, test_labels, verbose=2)\n",
    "\n",
    "print(results)"
   ]
  },
  {
   "cell_type": "code",
   "execution_count": 18,
   "id": "bfbb80ec",
   "metadata": {},
   "outputs": [
    {
     "data": {
      "text/plain": [
       "dict_keys(['loss', 'accuracy', 'val_loss', 'val_accuracy'])"
      ]
     },
     "execution_count": 18,
     "metadata": {},
     "output_type": "execute_result"
    }
   ],
   "source": [
    "history_dict = history.history\n",
    "history_dict.keys()"
   ]
  },
  {
   "cell_type": "code",
   "execution_count": 19,
   "id": "f73b69c2",
   "metadata": {},
   "outputs": [
    {
     "data": {
      "image/png": "[encoded data removed]",
      "text/plain": [
       "<Figure size 432x288 with 1 Axes>"
      ]
     },
     "metadata": {
      "needs_background": "light"
     },
     "output_type": "display_data"
    }
   ],
   "source": [
    "import matplotlib.pyplot as plt\n",
    "\n",
    "acc = history_dict['accuracy']\n",
    "val_acc = history_dict['val_accuracy']\n",
    "loss = history_dict['loss']\n",
    "val_loss = history_dict['val_loss']\n",
    "\n",
    "epochs = range(1, len(acc) + 1)\n",
    "\n",
    "\n",
    "plt.plot(epochs, loss, 'bo', label='Training loss')\n",
    "\n",
    "plt.plot(epochs, val_loss, 'b', label='Validation loss')\n",
    "plt.title('Training and validation loss')\n",
    "plt.xlabel('Epochs')\n",
    "plt.ylabel('Loss')\n",
    "plt.legend()\n",
    "\n",
    "plt.show()"
   ]
  },
  {
   "cell_type": "code",
   "execution_count": 21,
   "id": "f3f68814",
   "metadata": {},
   "outputs": [
    {
     "data": {
      "image/png": "[encoded data removed]",
      "text/plain": [
       "<Figure size 432x288 with 1 Axes>"
      ]
     },
     "metadata": {
      "needs_background": "light"
     },
     "output_type": "display_data"
    }
   ],
   "source": [
    "plt.clf()   \n",
    "\n",
    "plt.plot(epochs, acc, 'bo', label='Training acc')\n",
    "plt.plot(epochs, val_acc, 'b', label='Validation acc')\n",
    "plt.title('Training and validation accuracy')\n",
    "plt.xlabel('Epochs')\n",
    "plt.ylabel('Accuracy')\n",
    "plt.legend()\n",
    "\n",
    "plt.show()"
   ]
  },
  {
   "cell_type": "code",
   "execution_count": null,
   "id": "bb90bc36",
   "metadata": {},
   "outputs": [],
   "source": []
  }
 ],
 "metadata": {
  "kernelspec": {
   "display_name": "Python 3.6 (tensorflow)",
   "language": "python",
   "name": "tensorflow"
  },
  "language_info": {
   "codemirror_mode": {
    "name": "ipython",
    "version": 3
   },
   "file_extension": ".py",
   "mimetype": "text/x-python",
   "name": "python",
   "nbconvert_exporter": "python",
   "pygments_lexer": "ipython3",
   "version": "3.7.11"
  }
 },
 "nbformat": 4,
 "nbformat_minor": 5
}
